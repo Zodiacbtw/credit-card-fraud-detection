{
 "cells": [
  {
   "cell_type": "markdown",
   "id": "7853fa1c-f6f9-46ea-abd9-fbf1be522a7c",
   "metadata": {},
   "source": [
    "# **Credit Card Fraud Detection - EDA (Exploratory Data Analysis)**"
   ]
  },
  {
   "cell_type": "code",
   "execution_count": 2,
   "id": "57684141-1e76-4d11-affe-0c5b9e18d073",
   "metadata": {},
   "outputs": [],
   "source": [
    "import pandas as pd\n",
    "import numpy as np\n",
    "import matplotlib.pyplot as plt\n",
    "import missingno as msno\n",
    "import seaborn as sns\n",
    "import lightgbm as lgb\n",
    "from sklearn.model_selection import train_test_split, StratifiedKFold\n",
    "from sklearn.metrics import roc_auc_score\n",
    "from sklearn.preprocessing import LabelEncoder\n",
    "import matplotlib.pyplot as plt\n",
    "import seaborn as sns\n",
    "from scipy.stats import skew\n",
    "import datetime\n",
    "import optuna"
   ]
  },
  {
   "cell_type": "markdown",
   "id": "09cb35ae-f9a7-4a46-8aac-f99a9165c38d",
   "metadata": {},
   "source": [
    "#### There are 2 different data sets for model training:\n",
    "#### 1) Transaction set includes general data of transactions\n",
    "#### 2) Identity set includes identity datas of the transactions"
   ]
  },
  {
   "cell_type": "code",
   "execution_count": 4,
   "id": "2cd683e2-0f6f-48bb-a076-4e0885f7a3ed",
   "metadata": {},
   "outputs": [],
   "source": [
    "train_transaction_df = pd.read_csv('../data/train_transaction.csv')\n",
    "train_identity_df = pd.read_csv('../data/train_identity.csv')"
   ]
  },
  {
   "cell_type": "code",
   "execution_count": 5,
   "id": "6952504f-6de3-4385-84fa-b784d75ced9c",
   "metadata": {},
   "outputs": [
    {
     "data": {
      "text/html": [
       "<div>\n",
       "<style scoped>\n",
       "    .dataframe tbody tr th:only-of-type {\n",
       "        vertical-align: middle;\n",
       "    }\n",
       "\n",
       "    .dataframe tbody tr th {\n",
       "        vertical-align: top;\n",
       "    }\n",
       "\n",
       "    .dataframe thead th {\n",
       "        text-align: right;\n",
       "    }\n",
       "</style>\n",
       "<table border=\"1\" class=\"dataframe\">\n",
       "  <thead>\n",
       "    <tr style=\"text-align: right;\">\n",
       "      <th></th>\n",
       "      <th>TransactionID</th>\n",
       "      <th>isFraud</th>\n",
       "      <th>TransactionDT</th>\n",
       "      <th>TransactionAmt</th>\n",
       "      <th>ProductCD</th>\n",
       "      <th>card1</th>\n",
       "      <th>card2</th>\n",
       "      <th>card3</th>\n",
       "      <th>card4</th>\n",
       "      <th>card5</th>\n",
       "      <th>...</th>\n",
       "      <th>V330</th>\n",
       "      <th>V331</th>\n",
       "      <th>V332</th>\n",
       "      <th>V333</th>\n",
       "      <th>V334</th>\n",
       "      <th>V335</th>\n",
       "      <th>V336</th>\n",
       "      <th>V337</th>\n",
       "      <th>V338</th>\n",
       "      <th>V339</th>\n",
       "    </tr>\n",
       "  </thead>\n",
       "  <tbody>\n",
       "    <tr>\n",
       "      <th>0</th>\n",
       "      <td>2987000</td>\n",
       "      <td>0</td>\n",
       "      <td>86400</td>\n",
       "      <td>68.5</td>\n",
       "      <td>W</td>\n",
       "      <td>13926</td>\n",
       "      <td>NaN</td>\n",
       "      <td>150.0</td>\n",
       "      <td>discover</td>\n",
       "      <td>142.0</td>\n",
       "      <td>...</td>\n",
       "      <td>NaN</td>\n",
       "      <td>NaN</td>\n",
       "      <td>NaN</td>\n",
       "      <td>NaN</td>\n",
       "      <td>NaN</td>\n",
       "      <td>NaN</td>\n",
       "      <td>NaN</td>\n",
       "      <td>NaN</td>\n",
       "      <td>NaN</td>\n",
       "      <td>NaN</td>\n",
       "    </tr>\n",
       "    <tr>\n",
       "      <th>1</th>\n",
       "      <td>2987001</td>\n",
       "      <td>0</td>\n",
       "      <td>86401</td>\n",
       "      <td>29.0</td>\n",
       "      <td>W</td>\n",
       "      <td>2755</td>\n",
       "      <td>404.0</td>\n",
       "      <td>150.0</td>\n",
       "      <td>mastercard</td>\n",
       "      <td>102.0</td>\n",
       "      <td>...</td>\n",
       "      <td>NaN</td>\n",
       "      <td>NaN</td>\n",
       "      <td>NaN</td>\n",
       "      <td>NaN</td>\n",
       "      <td>NaN</td>\n",
       "      <td>NaN</td>\n",
       "      <td>NaN</td>\n",
       "      <td>NaN</td>\n",
       "      <td>NaN</td>\n",
       "      <td>NaN</td>\n",
       "    </tr>\n",
       "    <tr>\n",
       "      <th>2</th>\n",
       "      <td>2987002</td>\n",
       "      <td>0</td>\n",
       "      <td>86469</td>\n",
       "      <td>59.0</td>\n",
       "      <td>W</td>\n",
       "      <td>4663</td>\n",
       "      <td>490.0</td>\n",
       "      <td>150.0</td>\n",
       "      <td>visa</td>\n",
       "      <td>166.0</td>\n",
       "      <td>...</td>\n",
       "      <td>NaN</td>\n",
       "      <td>NaN</td>\n",
       "      <td>NaN</td>\n",
       "      <td>NaN</td>\n",
       "      <td>NaN</td>\n",
       "      <td>NaN</td>\n",
       "      <td>NaN</td>\n",
       "      <td>NaN</td>\n",
       "      <td>NaN</td>\n",
       "      <td>NaN</td>\n",
       "    </tr>\n",
       "    <tr>\n",
       "      <th>3</th>\n",
       "      <td>2987003</td>\n",
       "      <td>0</td>\n",
       "      <td>86499</td>\n",
       "      <td>50.0</td>\n",
       "      <td>W</td>\n",
       "      <td>18132</td>\n",
       "      <td>567.0</td>\n",
       "      <td>150.0</td>\n",
       "      <td>mastercard</td>\n",
       "      <td>117.0</td>\n",
       "      <td>...</td>\n",
       "      <td>NaN</td>\n",
       "      <td>NaN</td>\n",
       "      <td>NaN</td>\n",
       "      <td>NaN</td>\n",
       "      <td>NaN</td>\n",
       "      <td>NaN</td>\n",
       "      <td>NaN</td>\n",
       "      <td>NaN</td>\n",
       "      <td>NaN</td>\n",
       "      <td>NaN</td>\n",
       "    </tr>\n",
       "    <tr>\n",
       "      <th>4</th>\n",
       "      <td>2987004</td>\n",
       "      <td>0</td>\n",
       "      <td>86506</td>\n",
       "      <td>50.0</td>\n",
       "      <td>H</td>\n",
       "      <td>4497</td>\n",
       "      <td>514.0</td>\n",
       "      <td>150.0</td>\n",
       "      <td>mastercard</td>\n",
       "      <td>102.0</td>\n",
       "      <td>...</td>\n",
       "      <td>0.0</td>\n",
       "      <td>0.0</td>\n",
       "      <td>0.0</td>\n",
       "      <td>0.0</td>\n",
       "      <td>0.0</td>\n",
       "      <td>0.0</td>\n",
       "      <td>0.0</td>\n",
       "      <td>0.0</td>\n",
       "      <td>0.0</td>\n",
       "      <td>0.0</td>\n",
       "    </tr>\n",
       "    <tr>\n",
       "      <th>5</th>\n",
       "      <td>2987005</td>\n",
       "      <td>0</td>\n",
       "      <td>86510</td>\n",
       "      <td>49.0</td>\n",
       "      <td>W</td>\n",
       "      <td>5937</td>\n",
       "      <td>555.0</td>\n",
       "      <td>150.0</td>\n",
       "      <td>visa</td>\n",
       "      <td>226.0</td>\n",
       "      <td>...</td>\n",
       "      <td>NaN</td>\n",
       "      <td>NaN</td>\n",
       "      <td>NaN</td>\n",
       "      <td>NaN</td>\n",
       "      <td>NaN</td>\n",
       "      <td>NaN</td>\n",
       "      <td>NaN</td>\n",
       "      <td>NaN</td>\n",
       "      <td>NaN</td>\n",
       "      <td>NaN</td>\n",
       "    </tr>\n",
       "    <tr>\n",
       "      <th>6</th>\n",
       "      <td>2987006</td>\n",
       "      <td>0</td>\n",
       "      <td>86522</td>\n",
       "      <td>159.0</td>\n",
       "      <td>W</td>\n",
       "      <td>12308</td>\n",
       "      <td>360.0</td>\n",
       "      <td>150.0</td>\n",
       "      <td>visa</td>\n",
       "      <td>166.0</td>\n",
       "      <td>...</td>\n",
       "      <td>NaN</td>\n",
       "      <td>NaN</td>\n",
       "      <td>NaN</td>\n",
       "      <td>NaN</td>\n",
       "      <td>NaN</td>\n",
       "      <td>NaN</td>\n",
       "      <td>NaN</td>\n",
       "      <td>NaN</td>\n",
       "      <td>NaN</td>\n",
       "      <td>NaN</td>\n",
       "    </tr>\n",
       "    <tr>\n",
       "      <th>7</th>\n",
       "      <td>2987007</td>\n",
       "      <td>0</td>\n",
       "      <td>86529</td>\n",
       "      <td>422.5</td>\n",
       "      <td>W</td>\n",
       "      <td>12695</td>\n",
       "      <td>490.0</td>\n",
       "      <td>150.0</td>\n",
       "      <td>visa</td>\n",
       "      <td>226.0</td>\n",
       "      <td>...</td>\n",
       "      <td>NaN</td>\n",
       "      <td>NaN</td>\n",
       "      <td>NaN</td>\n",
       "      <td>NaN</td>\n",
       "      <td>NaN</td>\n",
       "      <td>NaN</td>\n",
       "      <td>NaN</td>\n",
       "      <td>NaN</td>\n",
       "      <td>NaN</td>\n",
       "      <td>NaN</td>\n",
       "    </tr>\n",
       "    <tr>\n",
       "      <th>8</th>\n",
       "      <td>2987008</td>\n",
       "      <td>0</td>\n",
       "      <td>86535</td>\n",
       "      <td>15.0</td>\n",
       "      <td>H</td>\n",
       "      <td>2803</td>\n",
       "      <td>100.0</td>\n",
       "      <td>150.0</td>\n",
       "      <td>visa</td>\n",
       "      <td>226.0</td>\n",
       "      <td>...</td>\n",
       "      <td>0.0</td>\n",
       "      <td>0.0</td>\n",
       "      <td>0.0</td>\n",
       "      <td>0.0</td>\n",
       "      <td>0.0</td>\n",
       "      <td>0.0</td>\n",
       "      <td>0.0</td>\n",
       "      <td>0.0</td>\n",
       "      <td>0.0</td>\n",
       "      <td>0.0</td>\n",
       "    </tr>\n",
       "    <tr>\n",
       "      <th>9</th>\n",
       "      <td>2987009</td>\n",
       "      <td>0</td>\n",
       "      <td>86536</td>\n",
       "      <td>117.0</td>\n",
       "      <td>W</td>\n",
       "      <td>17399</td>\n",
       "      <td>111.0</td>\n",
       "      <td>150.0</td>\n",
       "      <td>mastercard</td>\n",
       "      <td>224.0</td>\n",
       "      <td>...</td>\n",
       "      <td>NaN</td>\n",
       "      <td>NaN</td>\n",
       "      <td>NaN</td>\n",
       "      <td>NaN</td>\n",
       "      <td>NaN</td>\n",
       "      <td>NaN</td>\n",
       "      <td>NaN</td>\n",
       "      <td>NaN</td>\n",
       "      <td>NaN</td>\n",
       "      <td>NaN</td>\n",
       "    </tr>\n",
       "  </tbody>\n",
       "</table>\n",
       "<p>10 rows × 394 columns</p>\n",
       "</div>"
      ],
      "text/plain": [
       "   TransactionID  isFraud  TransactionDT  TransactionAmt ProductCD  card1  \\\n",
       "0        2987000        0          86400            68.5         W  13926   \n",
       "1        2987001        0          86401            29.0         W   2755   \n",
       "2        2987002        0          86469            59.0         W   4663   \n",
       "3        2987003        0          86499            50.0         W  18132   \n",
       "4        2987004        0          86506            50.0         H   4497   \n",
       "5        2987005        0          86510            49.0         W   5937   \n",
       "6        2987006        0          86522           159.0         W  12308   \n",
       "7        2987007        0          86529           422.5         W  12695   \n",
       "8        2987008        0          86535            15.0         H   2803   \n",
       "9        2987009        0          86536           117.0         W  17399   \n",
       "\n",
       "   card2  card3       card4  card5  ... V330  V331  V332  V333  V334 V335  \\\n",
       "0    NaN  150.0    discover  142.0  ...  NaN   NaN   NaN   NaN   NaN  NaN   \n",
       "1  404.0  150.0  mastercard  102.0  ...  NaN   NaN   NaN   NaN   NaN  NaN   \n",
       "2  490.0  150.0        visa  166.0  ...  NaN   NaN   NaN   NaN   NaN  NaN   \n",
       "3  567.0  150.0  mastercard  117.0  ...  NaN   NaN   NaN   NaN   NaN  NaN   \n",
       "4  514.0  150.0  mastercard  102.0  ...  0.0   0.0   0.0   0.0   0.0  0.0   \n",
       "5  555.0  150.0        visa  226.0  ...  NaN   NaN   NaN   NaN   NaN  NaN   \n",
       "6  360.0  150.0        visa  166.0  ...  NaN   NaN   NaN   NaN   NaN  NaN   \n",
       "7  490.0  150.0        visa  226.0  ...  NaN   NaN   NaN   NaN   NaN  NaN   \n",
       "8  100.0  150.0        visa  226.0  ...  0.0   0.0   0.0   0.0   0.0  0.0   \n",
       "9  111.0  150.0  mastercard  224.0  ...  NaN   NaN   NaN   NaN   NaN  NaN   \n",
       "\n",
       "  V336  V337  V338  V339  \n",
       "0  NaN   NaN   NaN   NaN  \n",
       "1  NaN   NaN   NaN   NaN  \n",
       "2  NaN   NaN   NaN   NaN  \n",
       "3  NaN   NaN   NaN   NaN  \n",
       "4  0.0   0.0   0.0   0.0  \n",
       "5  NaN   NaN   NaN   NaN  \n",
       "6  NaN   NaN   NaN   NaN  \n",
       "7  NaN   NaN   NaN   NaN  \n",
       "8  0.0   0.0   0.0   0.0  \n",
       "9  NaN   NaN   NaN   NaN  \n",
       "\n",
       "[10 rows x 394 columns]"
      ]
     },
     "execution_count": 5,
     "metadata": {},
     "output_type": "execute_result"
    }
   ],
   "source": [
    "train_transaction_df.head(10)"
   ]
  },
  {
   "cell_type": "code",
   "execution_count": 6,
   "id": "b0a9a4b1-3fb2-4c1d-a34a-166a7f7f16ff",
   "metadata": {},
   "outputs": [
    {
     "data": {
      "text/html": [
       "<div>\n",
       "<style scoped>\n",
       "    .dataframe tbody tr th:only-of-type {\n",
       "        vertical-align: middle;\n",
       "    }\n",
       "\n",
       "    .dataframe tbody tr th {\n",
       "        vertical-align: top;\n",
       "    }\n",
       "\n",
       "    .dataframe thead th {\n",
       "        text-align: right;\n",
       "    }\n",
       "</style>\n",
       "<table border=\"1\" class=\"dataframe\">\n",
       "  <thead>\n",
       "    <tr style=\"text-align: right;\">\n",
       "      <th></th>\n",
       "      <th>TransactionID</th>\n",
       "      <th>id_01</th>\n",
       "      <th>id_02</th>\n",
       "      <th>id_03</th>\n",
       "      <th>id_04</th>\n",
       "      <th>id_05</th>\n",
       "      <th>id_06</th>\n",
       "      <th>id_07</th>\n",
       "      <th>id_08</th>\n",
       "      <th>id_09</th>\n",
       "      <th>...</th>\n",
       "      <th>id_31</th>\n",
       "      <th>id_32</th>\n",
       "      <th>id_33</th>\n",
       "      <th>id_34</th>\n",
       "      <th>id_35</th>\n",
       "      <th>id_36</th>\n",
       "      <th>id_37</th>\n",
       "      <th>id_38</th>\n",
       "      <th>DeviceType</th>\n",
       "      <th>DeviceInfo</th>\n",
       "    </tr>\n",
       "  </thead>\n",
       "  <tbody>\n",
       "    <tr>\n",
       "      <th>0</th>\n",
       "      <td>2987004</td>\n",
       "      <td>0.0</td>\n",
       "      <td>70787.0</td>\n",
       "      <td>NaN</td>\n",
       "      <td>NaN</td>\n",
       "      <td>NaN</td>\n",
       "      <td>NaN</td>\n",
       "      <td>NaN</td>\n",
       "      <td>NaN</td>\n",
       "      <td>NaN</td>\n",
       "      <td>...</td>\n",
       "      <td>samsung browser 6.2</td>\n",
       "      <td>32.0</td>\n",
       "      <td>2220x1080</td>\n",
       "      <td>match_status:2</td>\n",
       "      <td>T</td>\n",
       "      <td>F</td>\n",
       "      <td>T</td>\n",
       "      <td>T</td>\n",
       "      <td>mobile</td>\n",
       "      <td>SAMSUNG SM-G892A Build/NRD90M</td>\n",
       "    </tr>\n",
       "    <tr>\n",
       "      <th>1</th>\n",
       "      <td>2987008</td>\n",
       "      <td>-5.0</td>\n",
       "      <td>98945.0</td>\n",
       "      <td>NaN</td>\n",
       "      <td>NaN</td>\n",
       "      <td>0.0</td>\n",
       "      <td>-5.0</td>\n",
       "      <td>NaN</td>\n",
       "      <td>NaN</td>\n",
       "      <td>NaN</td>\n",
       "      <td>...</td>\n",
       "      <td>mobile safari 11.0</td>\n",
       "      <td>32.0</td>\n",
       "      <td>1334x750</td>\n",
       "      <td>match_status:1</td>\n",
       "      <td>T</td>\n",
       "      <td>F</td>\n",
       "      <td>F</td>\n",
       "      <td>T</td>\n",
       "      <td>mobile</td>\n",
       "      <td>iOS Device</td>\n",
       "    </tr>\n",
       "    <tr>\n",
       "      <th>2</th>\n",
       "      <td>2987010</td>\n",
       "      <td>-5.0</td>\n",
       "      <td>191631.0</td>\n",
       "      <td>0.0</td>\n",
       "      <td>0.0</td>\n",
       "      <td>0.0</td>\n",
       "      <td>0.0</td>\n",
       "      <td>NaN</td>\n",
       "      <td>NaN</td>\n",
       "      <td>0.0</td>\n",
       "      <td>...</td>\n",
       "      <td>chrome 62.0</td>\n",
       "      <td>NaN</td>\n",
       "      <td>NaN</td>\n",
       "      <td>NaN</td>\n",
       "      <td>F</td>\n",
       "      <td>F</td>\n",
       "      <td>T</td>\n",
       "      <td>T</td>\n",
       "      <td>desktop</td>\n",
       "      <td>Windows</td>\n",
       "    </tr>\n",
       "    <tr>\n",
       "      <th>3</th>\n",
       "      <td>2987011</td>\n",
       "      <td>-5.0</td>\n",
       "      <td>221832.0</td>\n",
       "      <td>NaN</td>\n",
       "      <td>NaN</td>\n",
       "      <td>0.0</td>\n",
       "      <td>-6.0</td>\n",
       "      <td>NaN</td>\n",
       "      <td>NaN</td>\n",
       "      <td>NaN</td>\n",
       "      <td>...</td>\n",
       "      <td>chrome 62.0</td>\n",
       "      <td>NaN</td>\n",
       "      <td>NaN</td>\n",
       "      <td>NaN</td>\n",
       "      <td>F</td>\n",
       "      <td>F</td>\n",
       "      <td>T</td>\n",
       "      <td>T</td>\n",
       "      <td>desktop</td>\n",
       "      <td>NaN</td>\n",
       "    </tr>\n",
       "    <tr>\n",
       "      <th>4</th>\n",
       "      <td>2987016</td>\n",
       "      <td>0.0</td>\n",
       "      <td>7460.0</td>\n",
       "      <td>0.0</td>\n",
       "      <td>0.0</td>\n",
       "      <td>1.0</td>\n",
       "      <td>0.0</td>\n",
       "      <td>NaN</td>\n",
       "      <td>NaN</td>\n",
       "      <td>0.0</td>\n",
       "      <td>...</td>\n",
       "      <td>chrome 62.0</td>\n",
       "      <td>24.0</td>\n",
       "      <td>1280x800</td>\n",
       "      <td>match_status:2</td>\n",
       "      <td>T</td>\n",
       "      <td>F</td>\n",
       "      <td>T</td>\n",
       "      <td>T</td>\n",
       "      <td>desktop</td>\n",
       "      <td>MacOS</td>\n",
       "    </tr>\n",
       "    <tr>\n",
       "      <th>5</th>\n",
       "      <td>2987017</td>\n",
       "      <td>-5.0</td>\n",
       "      <td>61141.0</td>\n",
       "      <td>3.0</td>\n",
       "      <td>0.0</td>\n",
       "      <td>3.0</td>\n",
       "      <td>0.0</td>\n",
       "      <td>NaN</td>\n",
       "      <td>NaN</td>\n",
       "      <td>3.0</td>\n",
       "      <td>...</td>\n",
       "      <td>chrome 62.0</td>\n",
       "      <td>24.0</td>\n",
       "      <td>1366x768</td>\n",
       "      <td>match_status:2</td>\n",
       "      <td>T</td>\n",
       "      <td>F</td>\n",
       "      <td>T</td>\n",
       "      <td>T</td>\n",
       "      <td>desktop</td>\n",
       "      <td>Windows</td>\n",
       "    </tr>\n",
       "    <tr>\n",
       "      <th>6</th>\n",
       "      <td>2987022</td>\n",
       "      <td>-15.0</td>\n",
       "      <td>NaN</td>\n",
       "      <td>NaN</td>\n",
       "      <td>NaN</td>\n",
       "      <td>NaN</td>\n",
       "      <td>NaN</td>\n",
       "      <td>NaN</td>\n",
       "      <td>NaN</td>\n",
       "      <td>NaN</td>\n",
       "      <td>...</td>\n",
       "      <td>NaN</td>\n",
       "      <td>NaN</td>\n",
       "      <td>NaN</td>\n",
       "      <td>NaN</td>\n",
       "      <td>NaN</td>\n",
       "      <td>NaN</td>\n",
       "      <td>NaN</td>\n",
       "      <td>NaN</td>\n",
       "      <td>NaN</td>\n",
       "      <td>NaN</td>\n",
       "    </tr>\n",
       "    <tr>\n",
       "      <th>7</th>\n",
       "      <td>2987038</td>\n",
       "      <td>0.0</td>\n",
       "      <td>31964.0</td>\n",
       "      <td>0.0</td>\n",
       "      <td>0.0</td>\n",
       "      <td>0.0</td>\n",
       "      <td>-10.0</td>\n",
       "      <td>NaN</td>\n",
       "      <td>NaN</td>\n",
       "      <td>0.0</td>\n",
       "      <td>...</td>\n",
       "      <td>chrome 62.0</td>\n",
       "      <td>32.0</td>\n",
       "      <td>1920x1080</td>\n",
       "      <td>match_status:2</td>\n",
       "      <td>T</td>\n",
       "      <td>F</td>\n",
       "      <td>T</td>\n",
       "      <td>T</td>\n",
       "      <td>mobile</td>\n",
       "      <td>NaN</td>\n",
       "    </tr>\n",
       "    <tr>\n",
       "      <th>8</th>\n",
       "      <td>2987040</td>\n",
       "      <td>-10.0</td>\n",
       "      <td>116098.0</td>\n",
       "      <td>0.0</td>\n",
       "      <td>0.0</td>\n",
       "      <td>0.0</td>\n",
       "      <td>0.0</td>\n",
       "      <td>NaN</td>\n",
       "      <td>NaN</td>\n",
       "      <td>0.0</td>\n",
       "      <td>...</td>\n",
       "      <td>chrome 62.0</td>\n",
       "      <td>NaN</td>\n",
       "      <td>NaN</td>\n",
       "      <td>NaN</td>\n",
       "      <td>F</td>\n",
       "      <td>F</td>\n",
       "      <td>T</td>\n",
       "      <td>T</td>\n",
       "      <td>desktop</td>\n",
       "      <td>Windows</td>\n",
       "    </tr>\n",
       "    <tr>\n",
       "      <th>9</th>\n",
       "      <td>2987048</td>\n",
       "      <td>-5.0</td>\n",
       "      <td>257037.0</td>\n",
       "      <td>NaN</td>\n",
       "      <td>NaN</td>\n",
       "      <td>0.0</td>\n",
       "      <td>0.0</td>\n",
       "      <td>NaN</td>\n",
       "      <td>NaN</td>\n",
       "      <td>NaN</td>\n",
       "      <td>...</td>\n",
       "      <td>chrome 62.0</td>\n",
       "      <td>NaN</td>\n",
       "      <td>NaN</td>\n",
       "      <td>NaN</td>\n",
       "      <td>F</td>\n",
       "      <td>F</td>\n",
       "      <td>T</td>\n",
       "      <td>T</td>\n",
       "      <td>desktop</td>\n",
       "      <td>Windows</td>\n",
       "    </tr>\n",
       "  </tbody>\n",
       "</table>\n",
       "<p>10 rows × 41 columns</p>\n",
       "</div>"
      ],
      "text/plain": [
       "   TransactionID  id_01     id_02  id_03  id_04  id_05  id_06  id_07  id_08  \\\n",
       "0        2987004    0.0   70787.0    NaN    NaN    NaN    NaN    NaN    NaN   \n",
       "1        2987008   -5.0   98945.0    NaN    NaN    0.0   -5.0    NaN    NaN   \n",
       "2        2987010   -5.0  191631.0    0.0    0.0    0.0    0.0    NaN    NaN   \n",
       "3        2987011   -5.0  221832.0    NaN    NaN    0.0   -6.0    NaN    NaN   \n",
       "4        2987016    0.0    7460.0    0.0    0.0    1.0    0.0    NaN    NaN   \n",
       "5        2987017   -5.0   61141.0    3.0    0.0    3.0    0.0    NaN    NaN   \n",
       "6        2987022  -15.0       NaN    NaN    NaN    NaN    NaN    NaN    NaN   \n",
       "7        2987038    0.0   31964.0    0.0    0.0    0.0  -10.0    NaN    NaN   \n",
       "8        2987040  -10.0  116098.0    0.0    0.0    0.0    0.0    NaN    NaN   \n",
       "9        2987048   -5.0  257037.0    NaN    NaN    0.0    0.0    NaN    NaN   \n",
       "\n",
       "   id_09  ...                id_31  id_32      id_33           id_34  id_35  \\\n",
       "0    NaN  ...  samsung browser 6.2   32.0  2220x1080  match_status:2      T   \n",
       "1    NaN  ...   mobile safari 11.0   32.0   1334x750  match_status:1      T   \n",
       "2    0.0  ...          chrome 62.0    NaN        NaN             NaN      F   \n",
       "3    NaN  ...          chrome 62.0    NaN        NaN             NaN      F   \n",
       "4    0.0  ...          chrome 62.0   24.0   1280x800  match_status:2      T   \n",
       "5    3.0  ...          chrome 62.0   24.0   1366x768  match_status:2      T   \n",
       "6    NaN  ...                  NaN    NaN        NaN             NaN    NaN   \n",
       "7    0.0  ...          chrome 62.0   32.0  1920x1080  match_status:2      T   \n",
       "8    0.0  ...          chrome 62.0    NaN        NaN             NaN      F   \n",
       "9    NaN  ...          chrome 62.0    NaN        NaN             NaN      F   \n",
       "\n",
       "  id_36 id_37  id_38  DeviceType                     DeviceInfo  \n",
       "0     F     T      T      mobile  SAMSUNG SM-G892A Build/NRD90M  \n",
       "1     F     F      T      mobile                     iOS Device  \n",
       "2     F     T      T     desktop                        Windows  \n",
       "3     F     T      T     desktop                            NaN  \n",
       "4     F     T      T     desktop                          MacOS  \n",
       "5     F     T      T     desktop                        Windows  \n",
       "6   NaN   NaN    NaN         NaN                            NaN  \n",
       "7     F     T      T      mobile                            NaN  \n",
       "8     F     T      T     desktop                        Windows  \n",
       "9     F     T      T     desktop                        Windows  \n",
       "\n",
       "[10 rows x 41 columns]"
      ]
     },
     "execution_count": 6,
     "metadata": {},
     "output_type": "execute_result"
    }
   ],
   "source": [
    "train_identity_df.head(10)"
   ]
  },
  {
   "cell_type": "markdown",
   "id": "1a3ae2d4-551b-4de1-8936-a0a111a3537a",
   "metadata": {},
   "source": [
    "#### Since we have 2 datasets with different columns, we have to reduce it to a single dataset so we can work on it\n",
    "#### **TransactionID** is the column we'll use for the join"
   ]
  },
  {
   "cell_type": "code",
   "execution_count": 8,
   "id": "987341e5-6c34-41f5-b653-f7facf4e6576",
   "metadata": {},
   "outputs": [],
   "source": [
    "train_df = pd.merge(train_transaction_df, train_identity_df, on='TransactionID', how='left')"
   ]
  },
  {
   "cell_type": "code",
   "execution_count": 9,
   "id": "221cd1c2-5ed9-41af-9d38-920cf624c24e",
   "metadata": {},
   "outputs": [
    {
     "data": {
      "text/html": [
       "<div>\n",
       "<style scoped>\n",
       "    .dataframe tbody tr th:only-of-type {\n",
       "        vertical-align: middle;\n",
       "    }\n",
       "\n",
       "    .dataframe tbody tr th {\n",
       "        vertical-align: top;\n",
       "    }\n",
       "\n",
       "    .dataframe thead th {\n",
       "        text-align: right;\n",
       "    }\n",
       "</style>\n",
       "<table border=\"1\" class=\"dataframe\">\n",
       "  <thead>\n",
       "    <tr style=\"text-align: right;\">\n",
       "      <th></th>\n",
       "      <th>TransactionID</th>\n",
       "      <th>isFraud</th>\n",
       "      <th>TransactionDT</th>\n",
       "      <th>TransactionAmt</th>\n",
       "      <th>ProductCD</th>\n",
       "      <th>card1</th>\n",
       "      <th>card2</th>\n",
       "      <th>card3</th>\n",
       "      <th>card4</th>\n",
       "      <th>card5</th>\n",
       "      <th>...</th>\n",
       "      <th>id_31</th>\n",
       "      <th>id_32</th>\n",
       "      <th>id_33</th>\n",
       "      <th>id_34</th>\n",
       "      <th>id_35</th>\n",
       "      <th>id_36</th>\n",
       "      <th>id_37</th>\n",
       "      <th>id_38</th>\n",
       "      <th>DeviceType</th>\n",
       "      <th>DeviceInfo</th>\n",
       "    </tr>\n",
       "  </thead>\n",
       "  <tbody>\n",
       "    <tr>\n",
       "      <th>0</th>\n",
       "      <td>2987000</td>\n",
       "      <td>0</td>\n",
       "      <td>86400</td>\n",
       "      <td>68.5</td>\n",
       "      <td>W</td>\n",
       "      <td>13926</td>\n",
       "      <td>NaN</td>\n",
       "      <td>150.0</td>\n",
       "      <td>discover</td>\n",
       "      <td>142.0</td>\n",
       "      <td>...</td>\n",
       "      <td>NaN</td>\n",
       "      <td>NaN</td>\n",
       "      <td>NaN</td>\n",
       "      <td>NaN</td>\n",
       "      <td>NaN</td>\n",
       "      <td>NaN</td>\n",
       "      <td>NaN</td>\n",
       "      <td>NaN</td>\n",
       "      <td>NaN</td>\n",
       "      <td>NaN</td>\n",
       "    </tr>\n",
       "    <tr>\n",
       "      <th>1</th>\n",
       "      <td>2987001</td>\n",
       "      <td>0</td>\n",
       "      <td>86401</td>\n",
       "      <td>29.0</td>\n",
       "      <td>W</td>\n",
       "      <td>2755</td>\n",
       "      <td>404.0</td>\n",
       "      <td>150.0</td>\n",
       "      <td>mastercard</td>\n",
       "      <td>102.0</td>\n",
       "      <td>...</td>\n",
       "      <td>NaN</td>\n",
       "      <td>NaN</td>\n",
       "      <td>NaN</td>\n",
       "      <td>NaN</td>\n",
       "      <td>NaN</td>\n",
       "      <td>NaN</td>\n",
       "      <td>NaN</td>\n",
       "      <td>NaN</td>\n",
       "      <td>NaN</td>\n",
       "      <td>NaN</td>\n",
       "    </tr>\n",
       "    <tr>\n",
       "      <th>2</th>\n",
       "      <td>2987002</td>\n",
       "      <td>0</td>\n",
       "      <td>86469</td>\n",
       "      <td>59.0</td>\n",
       "      <td>W</td>\n",
       "      <td>4663</td>\n",
       "      <td>490.0</td>\n",
       "      <td>150.0</td>\n",
       "      <td>visa</td>\n",
       "      <td>166.0</td>\n",
       "      <td>...</td>\n",
       "      <td>NaN</td>\n",
       "      <td>NaN</td>\n",
       "      <td>NaN</td>\n",
       "      <td>NaN</td>\n",
       "      <td>NaN</td>\n",
       "      <td>NaN</td>\n",
       "      <td>NaN</td>\n",
       "      <td>NaN</td>\n",
       "      <td>NaN</td>\n",
       "      <td>NaN</td>\n",
       "    </tr>\n",
       "    <tr>\n",
       "      <th>3</th>\n",
       "      <td>2987003</td>\n",
       "      <td>0</td>\n",
       "      <td>86499</td>\n",
       "      <td>50.0</td>\n",
       "      <td>W</td>\n",
       "      <td>18132</td>\n",
       "      <td>567.0</td>\n",
       "      <td>150.0</td>\n",
       "      <td>mastercard</td>\n",
       "      <td>117.0</td>\n",
       "      <td>...</td>\n",
       "      <td>NaN</td>\n",
       "      <td>NaN</td>\n",
       "      <td>NaN</td>\n",
       "      <td>NaN</td>\n",
       "      <td>NaN</td>\n",
       "      <td>NaN</td>\n",
       "      <td>NaN</td>\n",
       "      <td>NaN</td>\n",
       "      <td>NaN</td>\n",
       "      <td>NaN</td>\n",
       "    </tr>\n",
       "    <tr>\n",
       "      <th>4</th>\n",
       "      <td>2987004</td>\n",
       "      <td>0</td>\n",
       "      <td>86506</td>\n",
       "      <td>50.0</td>\n",
       "      <td>H</td>\n",
       "      <td>4497</td>\n",
       "      <td>514.0</td>\n",
       "      <td>150.0</td>\n",
       "      <td>mastercard</td>\n",
       "      <td>102.0</td>\n",
       "      <td>...</td>\n",
       "      <td>samsung browser 6.2</td>\n",
       "      <td>32.0</td>\n",
       "      <td>2220x1080</td>\n",
       "      <td>match_status:2</td>\n",
       "      <td>T</td>\n",
       "      <td>F</td>\n",
       "      <td>T</td>\n",
       "      <td>T</td>\n",
       "      <td>mobile</td>\n",
       "      <td>SAMSUNG SM-G892A Build/NRD90M</td>\n",
       "    </tr>\n",
       "    <tr>\n",
       "      <th>5</th>\n",
       "      <td>2987005</td>\n",
       "      <td>0</td>\n",
       "      <td>86510</td>\n",
       "      <td>49.0</td>\n",
       "      <td>W</td>\n",
       "      <td>5937</td>\n",
       "      <td>555.0</td>\n",
       "      <td>150.0</td>\n",
       "      <td>visa</td>\n",
       "      <td>226.0</td>\n",
       "      <td>...</td>\n",
       "      <td>NaN</td>\n",
       "      <td>NaN</td>\n",
       "      <td>NaN</td>\n",
       "      <td>NaN</td>\n",
       "      <td>NaN</td>\n",
       "      <td>NaN</td>\n",
       "      <td>NaN</td>\n",
       "      <td>NaN</td>\n",
       "      <td>NaN</td>\n",
       "      <td>NaN</td>\n",
       "    </tr>\n",
       "    <tr>\n",
       "      <th>6</th>\n",
       "      <td>2987006</td>\n",
       "      <td>0</td>\n",
       "      <td>86522</td>\n",
       "      <td>159.0</td>\n",
       "      <td>W</td>\n",
       "      <td>12308</td>\n",
       "      <td>360.0</td>\n",
       "      <td>150.0</td>\n",
       "      <td>visa</td>\n",
       "      <td>166.0</td>\n",
       "      <td>...</td>\n",
       "      <td>NaN</td>\n",
       "      <td>NaN</td>\n",
       "      <td>NaN</td>\n",
       "      <td>NaN</td>\n",
       "      <td>NaN</td>\n",
       "      <td>NaN</td>\n",
       "      <td>NaN</td>\n",
       "      <td>NaN</td>\n",
       "      <td>NaN</td>\n",
       "      <td>NaN</td>\n",
       "    </tr>\n",
       "    <tr>\n",
       "      <th>7</th>\n",
       "      <td>2987007</td>\n",
       "      <td>0</td>\n",
       "      <td>86529</td>\n",
       "      <td>422.5</td>\n",
       "      <td>W</td>\n",
       "      <td>12695</td>\n",
       "      <td>490.0</td>\n",
       "      <td>150.0</td>\n",
       "      <td>visa</td>\n",
       "      <td>226.0</td>\n",
       "      <td>...</td>\n",
       "      <td>NaN</td>\n",
       "      <td>NaN</td>\n",
       "      <td>NaN</td>\n",
       "      <td>NaN</td>\n",
       "      <td>NaN</td>\n",
       "      <td>NaN</td>\n",
       "      <td>NaN</td>\n",
       "      <td>NaN</td>\n",
       "      <td>NaN</td>\n",
       "      <td>NaN</td>\n",
       "    </tr>\n",
       "    <tr>\n",
       "      <th>8</th>\n",
       "      <td>2987008</td>\n",
       "      <td>0</td>\n",
       "      <td>86535</td>\n",
       "      <td>15.0</td>\n",
       "      <td>H</td>\n",
       "      <td>2803</td>\n",
       "      <td>100.0</td>\n",
       "      <td>150.0</td>\n",
       "      <td>visa</td>\n",
       "      <td>226.0</td>\n",
       "      <td>...</td>\n",
       "      <td>mobile safari 11.0</td>\n",
       "      <td>32.0</td>\n",
       "      <td>1334x750</td>\n",
       "      <td>match_status:1</td>\n",
       "      <td>T</td>\n",
       "      <td>F</td>\n",
       "      <td>F</td>\n",
       "      <td>T</td>\n",
       "      <td>mobile</td>\n",
       "      <td>iOS Device</td>\n",
       "    </tr>\n",
       "    <tr>\n",
       "      <th>9</th>\n",
       "      <td>2987009</td>\n",
       "      <td>0</td>\n",
       "      <td>86536</td>\n",
       "      <td>117.0</td>\n",
       "      <td>W</td>\n",
       "      <td>17399</td>\n",
       "      <td>111.0</td>\n",
       "      <td>150.0</td>\n",
       "      <td>mastercard</td>\n",
       "      <td>224.0</td>\n",
       "      <td>...</td>\n",
       "      <td>NaN</td>\n",
       "      <td>NaN</td>\n",
       "      <td>NaN</td>\n",
       "      <td>NaN</td>\n",
       "      <td>NaN</td>\n",
       "      <td>NaN</td>\n",
       "      <td>NaN</td>\n",
       "      <td>NaN</td>\n",
       "      <td>NaN</td>\n",
       "      <td>NaN</td>\n",
       "    </tr>\n",
       "  </tbody>\n",
       "</table>\n",
       "<p>10 rows × 434 columns</p>\n",
       "</div>"
      ],
      "text/plain": [
       "   TransactionID  isFraud  TransactionDT  TransactionAmt ProductCD  card1  \\\n",
       "0        2987000        0          86400            68.5         W  13926   \n",
       "1        2987001        0          86401            29.0         W   2755   \n",
       "2        2987002        0          86469            59.0         W   4663   \n",
       "3        2987003        0          86499            50.0         W  18132   \n",
       "4        2987004        0          86506            50.0         H   4497   \n",
       "5        2987005        0          86510            49.0         W   5937   \n",
       "6        2987006        0          86522           159.0         W  12308   \n",
       "7        2987007        0          86529           422.5         W  12695   \n",
       "8        2987008        0          86535            15.0         H   2803   \n",
       "9        2987009        0          86536           117.0         W  17399   \n",
       "\n",
       "   card2  card3       card4  card5  ...                id_31  id_32  \\\n",
       "0    NaN  150.0    discover  142.0  ...                  NaN    NaN   \n",
       "1  404.0  150.0  mastercard  102.0  ...                  NaN    NaN   \n",
       "2  490.0  150.0        visa  166.0  ...                  NaN    NaN   \n",
       "3  567.0  150.0  mastercard  117.0  ...                  NaN    NaN   \n",
       "4  514.0  150.0  mastercard  102.0  ...  samsung browser 6.2   32.0   \n",
       "5  555.0  150.0        visa  226.0  ...                  NaN    NaN   \n",
       "6  360.0  150.0        visa  166.0  ...                  NaN    NaN   \n",
       "7  490.0  150.0        visa  226.0  ...                  NaN    NaN   \n",
       "8  100.0  150.0        visa  226.0  ...   mobile safari 11.0   32.0   \n",
       "9  111.0  150.0  mastercard  224.0  ...                  NaN    NaN   \n",
       "\n",
       "       id_33           id_34  id_35 id_36 id_37  id_38  DeviceType  \\\n",
       "0        NaN             NaN    NaN   NaN   NaN    NaN         NaN   \n",
       "1        NaN             NaN    NaN   NaN   NaN    NaN         NaN   \n",
       "2        NaN             NaN    NaN   NaN   NaN    NaN         NaN   \n",
       "3        NaN             NaN    NaN   NaN   NaN    NaN         NaN   \n",
       "4  2220x1080  match_status:2      T     F     T      T      mobile   \n",
       "5        NaN             NaN    NaN   NaN   NaN    NaN         NaN   \n",
       "6        NaN             NaN    NaN   NaN   NaN    NaN         NaN   \n",
       "7        NaN             NaN    NaN   NaN   NaN    NaN         NaN   \n",
       "8   1334x750  match_status:1      T     F     F      T      mobile   \n",
       "9        NaN             NaN    NaN   NaN   NaN    NaN         NaN   \n",
       "\n",
       "                      DeviceInfo  \n",
       "0                            NaN  \n",
       "1                            NaN  \n",
       "2                            NaN  \n",
       "3                            NaN  \n",
       "4  SAMSUNG SM-G892A Build/NRD90M  \n",
       "5                            NaN  \n",
       "6                            NaN  \n",
       "7                            NaN  \n",
       "8                     iOS Device  \n",
       "9                            NaN  \n",
       "\n",
       "[10 rows x 434 columns]"
      ]
     },
     "execution_count": 9,
     "metadata": {},
     "output_type": "execute_result"
    }
   ],
   "source": [
    "train_df.head(10)"
   ]
  },
  {
   "cell_type": "markdown",
   "id": "8ce0a382-b092-410d-9674-1fc0aba104b0",
   "metadata": {},
   "source": [
    "#### There are **434** columns in this dataset\n",
    "#### Even if we filter most of the columns, we have to design a standard template to make our work useful for other datasets"
   ]
  },
  {
   "cell_type": "code",
   "execution_count": 11,
   "id": "5860ef11-ca02-4859-ac7a-defe076c643a",
   "metadata": {},
   "outputs": [
    {
     "data": {
      "text/plain": [
       "(590540, 434)"
      ]
     },
     "execution_count": 11,
     "metadata": {},
     "output_type": "execute_result"
    }
   ],
   "source": [
    "train_df.shape"
   ]
  },
  {
   "cell_type": "markdown",
   "id": "068609f1-96b7-4df7-88a9-3b05ebb4c268",
   "metadata": {},
   "source": [
    "#### Missing datas are a big issue in this dataset, we have to handle it carefully"
   ]
  },
  {
   "cell_type": "code",
   "execution_count": 13,
   "id": "01581bb9-d023-4b11-8b66-caeaa67c4283",
   "metadata": {},
   "outputs": [
    {
     "data": {
      "text/plain": [
       "<Axes: >"
      ]
     },
     "execution_count": 13,
     "metadata": {},
     "output_type": "execute_result"
    },
    {
     "data": {
      "image/png": "[encoded data removed]",
      "text/plain": [
       "<Figure size 2500x1000 with 2 Axes>"
      ]
     },
     "metadata": {},
     "output_type": "display_data"
    }
   ],
   "source": [
    "msno.matrix(train_df)"
   ]
  },
  {
   "cell_type": "markdown",
   "id": "036fb5cf-55e1-4caf-a381-fb3ff1662af3",
   "metadata": {},
   "source": [
    "#### Fraud transaction percentage is around %3.5 for this dataset, it is a low rating that will make it harder to recognize fitting patterns\n",
    "#### Due to imbalanced data we should stick to **AUC-ROC** instead of **Accuracy** as the target metric"
   ]
  },
  {
   "cell_type": "code",
   "execution_count": 15,
   "id": "6a9fe20b-d500-4acc-945d-23564b10edd2",
   "metadata": {},
   "outputs": [
    {
     "data": {
      "text/plain": [
       "isFraud\n",
       "0    0.96501\n",
       "1    0.03499\n",
       "Name: proportion, dtype: float64"
      ]
     },
     "execution_count": 15,
     "metadata": {},
     "output_type": "execute_result"
    }
   ],
   "source": [
    "train_df['isFraud'].value_counts(normalize=True)"
   ]
  },
  {
   "cell_type": "code",
   "execution_count": 16,
   "id": "ee326162-c4cc-41c9-b97c-62b755ae8e8a",
   "metadata": {},
   "outputs": [
    {
     "data": {
      "text/plain": [
       "<Axes: xlabel='isFraud', ylabel='count'>"
      ]
     },
     "execution_count": 16,
     "metadata": {},
     "output_type": "execute_result"
    },
    {
     "data": {
      "image/png": "[encoded data removed]",
      "text/plain": [
       "<Figure size 640x480 with 1 Axes>"
      ]
     },
     "metadata": {},
     "output_type": "display_data"
    }
   ],
   "source": [
    "sns.countplot(x='isFraud', data=train_df)"
   ]
  },
  {
   "cell_type": "markdown",
   "id": "478a7922-9b1f-4349-9d2c-f3f7718ca7d3",
   "metadata": {},
   "source": [
    "## Primary Data Preprocessing\n",
    "### Target column will be given and features will be extracted"
   ]
  },
  {
   "cell_type": "code",
   "execution_count": 18,
   "id": "ba47de25-f952-47f8-987e-ee550abc779e",
   "metadata": {},
   "outputs": [],
   "source": [
    "TARGET = 'isFraud'"
   ]
  },
  {
   "cell_type": "code",
   "execution_count": 19,
   "id": "5628ae1d-e745-4beb-b465-75aad8e9cd92",
   "metadata": {},
   "outputs": [],
   "source": [
    "features_to_exclude = [TARGET, 'TransactionID']"
   ]
  },
  {
   "cell_type": "code",
   "execution_count": 20,
   "id": "dace1f29-c9a3-497d-9f3a-bcffa2b45b76",
   "metadata": {},
   "outputs": [],
   "source": [
    "categorical_features = []\n",
    "numerical_features = []"
   ]
  },
  {
   "cell_type": "code",
   "execution_count": 21,
   "id": "700adf0c-31f1-44bd-ba51-aee1632b4cb4",
   "metadata": {},
   "outputs": [],
   "source": [
    "df_processed = train_df.copy()"
   ]
  },
  {
   "cell_type": "code",
   "execution_count": 22,
   "id": "0316516b-16e8-4678-bbb8-297e02358bb3",
   "metadata": {},
   "outputs": [],
   "source": [
    "for col in df_processed.columns:\n",
    "    if col not in features_to_exclude:\n",
    "        if train_df[col].dtype == 'object':\n",
    "            categorical_features.append(col)\n",
    "        else:\n",
    "            numerical_features.append(col)"
   ]
  },
  {
   "cell_type": "markdown",
   "id": "f14504a4-ced8-4b11-8e45-f8f70c395ea7",
   "metadata": {},
   "source": [
    "### Checking the feature types to give them a shape so we can work on it onwards"
   ]
  },
  {
   "cell_type": "code",
   "execution_count": 24,
   "id": "5da88de9-72fb-4b45-8ec7-2cf9e6abd897",
   "metadata": {},
   "outputs": [
    {
     "data": {
      "text/plain": [
       "31"
      ]
     },
     "execution_count": 24,
     "metadata": {},
     "output_type": "execute_result"
    }
   ],
   "source": [
    "len(categorical_features)"
   ]
  },
  {
   "cell_type": "code",
   "execution_count": 25,
   "id": "13f7e6d4-6013-4a2a-b1b2-e694913399c4",
   "metadata": {},
   "outputs": [
    {
     "data": {
      "text/plain": [
       "['ProductCD', 'card4', 'card6', 'P_emaildomain', 'R_emaildomain']"
      ]
     },
     "execution_count": 25,
     "metadata": {},
     "output_type": "execute_result"
    }
   ],
   "source": [
    "categorical_features[:5]"
   ]
  },
  {
   "cell_type": "code",
   "execution_count": 26,
   "id": "8ba74f7e-fa72-4174-ae8e-018755956c71",
   "metadata": {},
   "outputs": [
    {
     "data": {
      "text/plain": [
       "401"
      ]
     },
     "execution_count": 26,
     "metadata": {},
     "output_type": "execute_result"
    }
   ],
   "source": [
    "len(numerical_features)"
   ]
  },
  {
   "cell_type": "code",
   "execution_count": 27,
   "id": "d9f12048-d43a-404e-8222-dd42f5ae93bc",
   "metadata": {},
   "outputs": [
    {
     "data": {
      "text/plain": [
       "['TransactionDT', 'TransactionAmt', 'card1', 'card2', 'card3']"
      ]
     },
     "execution_count": 27,
     "metadata": {},
     "output_type": "execute_result"
    }
   ],
   "source": [
    "numerical_features[:5]"
   ]
  },
  {
   "cell_type": "code",
   "execution_count": 28,
   "id": "d2c9c252-7f7d-473c-9ef8-33d2a0adec3e",
   "metadata": {},
   "outputs": [
    {
     "data": {
      "text/plain": [
       "0              NaN\n",
       "1        gmail.com\n",
       "2      outlook.com\n",
       "3        yahoo.com\n",
       "4        gmail.com\n",
       "5        gmail.com\n",
       "6        yahoo.com\n",
       "7         mail.com\n",
       "8    anonymous.com\n",
       "9        yahoo.com\n",
       "Name: P_emaildomain, dtype: object"
      ]
     },
     "execution_count": 28,
     "metadata": {},
     "output_type": "execute_result"
    }
   ],
   "source": [
    "df_processed['P_emaildomain'].head(10)"
   ]
  },
  {
   "cell_type": "markdown",
   "id": "03731df9-2da4-43f2-a64f-d2dfc0f57f4d",
   "metadata": {},
   "source": [
    "### One-hot encoding will be used because of the nominal data\n",
    "#### We need to eliminate the missing rows, but first we need to have a better understanding of data to decide which technique will be used (filling with mean or median values)"
   ]
  },
  {
   "cell_type": "code",
   "execution_count": 30,
   "id": "da57e094-9341-477d-b0e4-79a352e15cdd",
   "metadata": {},
   "outputs": [
    {
     "data": {
      "image/png": "[encoded data removed]",
      "text/plain": [
       "<Figure size 640x480 with 1 Axes>"
      ]
     },
     "metadata": {},
     "output_type": "display_data"
    }
   ],
   "source": [
    "df_processed[\"TransactionAmt\"].hist(bins=30)\n",
    "plt.title(\"Histogram of TransactionAmt\")\n",
    "plt.show()"
   ]
  },
  {
   "cell_type": "code",
   "execution_count": 31,
   "id": "591b8f35-1593-4a68-83eb-3d9fa6c80d73",
   "metadata": {},
   "outputs": [
    {
     "data": {
      "text/plain": [
       "14.374489573829827"
      ]
     },
     "execution_count": 31,
     "metadata": {},
     "output_type": "execute_result"
    }
   ],
   "source": [
    "df_processed[\"TransactionAmt\"].skew()"
   ]
  },
  {
   "cell_type": "code",
   "execution_count": 32,
   "id": "3e2dec17-fb85-4de5-8e5c-d331b9c9a57e",
   "metadata": {},
   "outputs": [
    {
     "data": {
      "image/png": "[encoded data removed]",
      "text/plain": [
       "<Figure size 640x480 with 1 Axes>"
      ]
     },
     "metadata": {},
     "output_type": "display_data"
    }
   ],
   "source": [
    "df_processed[\"card1\"].hist(bins=30)\n",
    "plt.title(\"Histogram of card1\")\n",
    "plt.show()"
   ]
  },
  {
   "cell_type": "code",
   "execution_count": 33,
   "id": "e4eaa86f-064f-4879-b2a8-14a82e804e8d",
   "metadata": {},
   "outputs": [
    {
     "data": {
      "text/plain": [
       "-0.040928983534335904"
      ]
     },
     "execution_count": 33,
     "metadata": {},
     "output_type": "execute_result"
    }
   ],
   "source": [
    "df_processed[\"card1\"].skew()"
   ]
  },
  {
   "cell_type": "code",
   "execution_count": 34,
   "id": "0d426024-0857-4876-b182-365ed3e79e56",
   "metadata": {},
   "outputs": [
    {
     "data": {
      "image/png": "[encoded data removed]",
      "text/plain": [
       "<Figure size 640x480 with 1 Axes>"
      ]
     },
     "metadata": {},
     "output_type": "display_data"
    }
   ],
   "source": [
    "df_processed[\"card2\"].hist(bins=30)\n",
    "plt.title(\"Histogram of card2\")\n",
    "plt.show()"
   ]
  },
  {
   "cell_type": "code",
   "execution_count": 35,
   "id": "a07a1717-ee3e-40b5-bc4b-5e1b749865dd",
   "metadata": {},
   "outputs": [
    {
     "data": {
      "text/plain": [
       "-0.20000860852370972"
      ]
     },
     "execution_count": 35,
     "metadata": {},
     "output_type": "execute_result"
    }
   ],
   "source": [
    "df_processed[\"card2\"].skew()"
   ]
  },
  {
   "cell_type": "code",
   "execution_count": 36,
   "id": "c6f14e6f-22e9-4d69-82ff-932cf6fe6162",
   "metadata": {},
   "outputs": [
    {
     "data": {
      "text/plain": [
       "-14.50115337134165"
      ]
     },
     "execution_count": 36,
     "metadata": {},
     "output_type": "execute_result"
    }
   ],
   "source": [
    "df_processed[\"addr2\"].skew()"
   ]
  },
  {
   "cell_type": "markdown",
   "id": "d2fb9d56-296b-4e80-a7ba-a621c0bc1702",
   "metadata": {},
   "source": [
    "### After an exploration we can see that; some columns are **normally distributed**, some columns has **low skewness**, some columns has **high skewness** at both sides (negative and positive)\n",
    "### So we should handle each column by it's characteristic\n",
    "### Next step is to group columns, make strategies for each group, feature extraction and feature reducing"
   ]
  },
  {
   "cell_type": "code",
   "execution_count": 38,
   "id": "c28bc7d4-bb77-43f3-9373-eb560ce8c3b7",
   "metadata": {},
   "outputs": [],
   "source": [
    "all_columns = df_processed.columns.tolist()"
   ]
  },
  {
   "cell_type": "code",
   "execution_count": 39,
   "id": "efdd5275-690d-49bf-b84d-d56416cd2889",
   "metadata": {},
   "outputs": [],
   "source": [
    "transaction_info_cols = ['TransactionID', 'isFraud', 'TransactionDT', 'TransactionAmt', 'ProductCD']"
   ]
  },
  {
   "cell_type": "code",
   "execution_count": 40,
   "id": "fd164ca7-0f07-4ff6-bf7e-38c6a67b193d",
   "metadata": {},
   "outputs": [],
   "source": [
    "card_info_cols = [col for col in all_columns if col.startswith('card')]\n",
    "card_info_cols += [col for col in all_columns if col.startswith('addr')]\n",
    "card_info_cols += [col for col in all_columns if col.startswith('dist')]"
   ]
  },
  {
   "cell_type": "code",
   "execution_count": 41,
   "id": "1a091a79-2efc-47de-81f7-bc27a70131f7",
   "metadata": {},
   "outputs": [],
   "source": [
    "email_cols = ['P_emaildomain', 'R_emaildomain']"
   ]
  },
  {
   "cell_type": "code",
   "execution_count": 42,
   "id": "9a35d7d3-6121-4e59-857b-4a4487aedb92",
   "metadata": {},
   "outputs": [],
   "source": [
    "m_match_cols = [col for col in all_columns if col.startswith('M')]"
   ]
  },
  {
   "cell_type": "code",
   "execution_count": 43,
   "id": "8c1af388-0a24-40ae-a819-6a27feefab0b",
   "metadata": {},
   "outputs": [],
   "source": [
    "d_timedelta_cols = [col for col in all_columns if col.startswith('D') and col[1:].isdigit()]"
   ]
  },
  {
   "cell_type": "code",
   "execution_count": 44,
   "id": "92e2b7a3-63e3-4c77-8864-b66be0150290",
   "metadata": {},
   "outputs": [],
   "source": [
    "c_counter_cols = [col for col in all_columns if col.startswith('C')]"
   ]
  },
  {
   "cell_type": "code",
   "execution_count": 45,
   "id": "53a9bc5e-7ee4-47b3-a733-6a04e9efe451",
   "metadata": {},
   "outputs": [],
   "source": [
    "v_vesta_cols = [col for col in all_columns if col.startswith('V')]"
   ]
  },
  {
   "cell_type": "code",
   "execution_count": 46,
   "id": "e77ea912-2b4d-41b3-a061-f8e4f664fb93",
   "metadata": {},
   "outputs": [],
   "source": [
    "id_cols = [col for col in all_columns if col.startswith('id_')]\n",
    "id_cols += ['DeviceType', 'DeviceInfo']"
   ]
  },
  {
   "cell_type": "markdown",
   "id": "2cd0ec43-5804-423f-9563-0d20af75e122",
   "metadata": {},
   "source": [
    "#### Groups are created and filled with related columns\n",
    "#### We should inspect the groups and have a better understanding of data"
   ]
  },
  {
   "cell_type": "code",
   "execution_count": 48,
   "id": "9dae1dae-c147-41b4-8455-98448ce04e61",
   "metadata": {},
   "outputs": [
    {
     "data": {
      "text/plain": [
       "5"
      ]
     },
     "execution_count": 48,
     "metadata": {},
     "output_type": "execute_result"
    }
   ],
   "source": [
    "len(transaction_info_cols)"
   ]
  },
  {
   "cell_type": "code",
   "execution_count": 49,
   "id": "31c4d4bd-12b4-44b2-a695-3912ec10c5bf",
   "metadata": {},
   "outputs": [
    {
     "data": {
      "text/plain": [
       "10"
      ]
     },
     "execution_count": 49,
     "metadata": {},
     "output_type": "execute_result"
    }
   ],
   "source": [
    "len(card_info_cols)"
   ]
  },
  {
   "cell_type": "code",
   "execution_count": 50,
   "id": "a0703512-89e6-4471-81c1-66ec8ad83edc",
   "metadata": {},
   "outputs": [
    {
     "data": {
      "text/plain": [
       "2"
      ]
     },
     "execution_count": 50,
     "metadata": {},
     "output_type": "execute_result"
    }
   ],
   "source": [
    "len(email_cols)"
   ]
  },
  {
   "cell_type": "code",
   "execution_count": 51,
   "id": "f420c516-8c83-4ea9-a171-7c9f92286927",
   "metadata": {},
   "outputs": [
    {
     "data": {
      "text/plain": [
       "9"
      ]
     },
     "execution_count": 51,
     "metadata": {},
     "output_type": "execute_result"
    }
   ],
   "source": [
    "len(m_match_cols)"
   ]
  },
  {
   "cell_type": "code",
   "execution_count": 52,
   "id": "fdc9e450-704b-421d-b6db-0311b591248a",
   "metadata": {},
   "outputs": [
    {
     "data": {
      "text/plain": [
       "15"
      ]
     },
     "execution_count": 52,
     "metadata": {},
     "output_type": "execute_result"
    }
   ],
   "source": [
    "len(d_timedelta_cols)"
   ]
  },
  {
   "cell_type": "code",
   "execution_count": 53,
   "id": "5c66cf6a-4678-4826-8a26-0afdb078c6c6",
   "metadata": {},
   "outputs": [
    {
     "data": {
      "text/plain": [
       "14"
      ]
     },
     "execution_count": 53,
     "metadata": {},
     "output_type": "execute_result"
    }
   ],
   "source": [
    "len(c_counter_cols)"
   ]
  },
  {
   "cell_type": "code",
   "execution_count": 54,
   "id": "32dec7a7-3b2c-46b7-bcbd-84584fa4b213",
   "metadata": {},
   "outputs": [
    {
     "data": {
      "text/plain": [
       "339"
      ]
     },
     "execution_count": 54,
     "metadata": {},
     "output_type": "execute_result"
    }
   ],
   "source": [
    "len(v_vesta_cols)"
   ]
  },
  {
   "cell_type": "code",
   "execution_count": 55,
   "id": "00ab68f9-ad1a-41e8-a4f5-8f247086e868",
   "metadata": {},
   "outputs": [
    {
     "data": {
      "text/plain": [
       "40"
      ]
     },
     "execution_count": 55,
     "metadata": {},
     "output_type": "execute_result"
    }
   ],
   "source": [
    "len(id_cols)"
   ]
  },
  {
   "cell_type": "markdown",
   "id": "e1f3211b-3fc9-4030-9308-a4964748b613",
   "metadata": {},
   "source": [
    "#### Next step is to validate that none of the columns are outside of our grouping"
   ]
  },
  {
   "cell_type": "code",
   "execution_count": 57,
   "id": "397ff1b2-beb8-4c4d-953b-bcaae4bfc82b",
   "metadata": {},
   "outputs": [],
   "source": [
    "grouped_cols = (\n",
    "    transaction_info_cols +\n",
    "    card_info_cols +\n",
    "    email_cols +\n",
    "    m_match_cols +\n",
    "    d_timedelta_cols +\n",
    "    c_counter_cols +\n",
    "    v_vesta_cols +\n",
    "    id_cols\n",
    ")"
   ]
  },
  {
   "cell_type": "code",
   "execution_count": 58,
   "id": "f202f760-ec86-4737-9fbe-36e3b83922b5",
   "metadata": {},
   "outputs": [
    {
     "data": {
      "text/plain": [
       "434"
      ]
     },
     "execution_count": 58,
     "metadata": {},
     "output_type": "execute_result"
    }
   ],
   "source": [
    "len(df_processed.columns)"
   ]
  },
  {
   "cell_type": "code",
   "execution_count": 59,
   "id": "a297b5e1-1d0d-4868-86d2-bec5aae65039",
   "metadata": {},
   "outputs": [
    {
     "data": {
      "text/plain": [
       "434"
      ]
     },
     "execution_count": 59,
     "metadata": {},
     "output_type": "execute_result"
    }
   ],
   "source": [
    "len(grouped_cols)"
   ]
  },
  {
   "cell_type": "code",
   "execution_count": 60,
   "id": "d45d96e9-6a8c-46cb-8347-70b8dce03f2e",
   "metadata": {},
   "outputs": [
    {
     "data": {
      "text/plain": [
       "434"
      ]
     },
     "execution_count": 60,
     "metadata": {},
     "output_type": "execute_result"
    }
   ],
   "source": [
    "len(set(grouped_cols))"
   ]
  },
  {
   "cell_type": "markdown",
   "id": "abcdac44-573b-428d-806e-418214a1a9c7",
   "metadata": {},
   "source": [
    "### Since we grouped our columns, now it's easier to spot missing datas per groups to determine our strategies"
   ]
  },
  {
   "cell_type": "code",
   "execution_count": 62,
   "id": "a7d129c5-4c6e-4e4a-a658-08f4e769612d",
   "metadata": {},
   "outputs": [
    {
     "name": "stdout",
     "output_type": "stream",
     "text": [
      "Average Missing Data Percentage in Each Column Family:\n",
      "-------------------------------------------------------\n",
      "Transaction Info     | % 0.00 missing data\n",
      "Card Info            | % 17.86 missing data\n",
      "Email                | % 46.37 missing data\n",
      "M Match              | % 49.92 missing data\n",
      "Time Delta (D)       | % 58.15 missing data\n",
      "Counter (C)          | % 0.00 missing data\n",
      "Vesta (V)            | % 43.04 missing data\n",
      "Identity (ID)        | % 84.48 missing data\n"
     ]
    }
   ],
   "source": [
    "column_groups_dict = {\n",
    "    'Transaction Info': transaction_info_cols,\n",
    "    'Card Info': card_info_cols,\n",
    "    'Email': email_cols,\n",
    "    'M Match': m_match_cols,\n",
    "    'Time Delta (D)': d_timedelta_cols,\n",
    "    'Counter (C)': c_counter_cols,\n",
    "    'Vesta (V)': v_vesta_cols,\n",
    "    'Identity (ID)': id_cols\n",
    "}\n",
    "\n",
    "print(\"Average Missing Data Percentage in Each Column Family:\")\n",
    "print(\"-\" * 55)\n",
    "\n",
    "for group_name, cols in column_groups_dict.items():\n",
    "    if not cols:\n",
    "        continue\n",
    "    \n",
    "    total_cells = df_processed[cols].size\n",
    "    missing_cells = df_processed[cols].isnull().sum().sum()\n",
    "    \n",
    "    if total_cells > 0:\n",
    "        missing_percentage = (missing_cells / total_cells) * 100\n",
    "    else:\n",
    "        missing_percentage = 0\n",
    "    \n",
    "    print(f\"{group_name:<20} | % {missing_percentage:.2f} missing data\")"
   ]
  },
  {
   "cell_type": "code",
   "execution_count": 63,
   "id": "b48510e7-b29b-42dd-bae1-322dc6d0d186",
   "metadata": {},
   "outputs": [],
   "source": [
    "new_missing_indicators = {}"
   ]
  },
  {
   "cell_type": "code",
   "execution_count": 64,
   "id": "09e6bfa5-d07f-450d-947b-947363c5f524",
   "metadata": {},
   "outputs": [],
   "source": [
    "for col in df_processed.columns:\n",
    "    if df_processed[col].isnull().mean() > 0.15:\n",
    "        new_column_name = f'{col}_is_missing'\n",
    "        new_missing_indicators[new_column_name] = df_processed[col].isnull().astype(int)"
   ]
  },
  {
   "cell_type": "code",
   "execution_count": 65,
   "id": "d43ede5c-fd67-48bc-8156-33e8f399c16c",
   "metadata": {},
   "outputs": [
    {
     "name": "stdout",
     "output_type": "stream",
     "text": [
      "274\n"
     ]
    }
   ],
   "source": [
    "print(len(new_missing_indicators))\n",
    "df_missing_indicators = pd.DataFrame(new_missing_indicators)"
   ]
  },
  {
   "cell_type": "code",
   "execution_count": 66,
   "id": "d4b22b1f-a13e-46dd-ba99-745487499397",
   "metadata": {},
   "outputs": [],
   "source": [
    "df_processed = pd.concat([df_processed, df_missing_indicators], axis=1)"
   ]
  },
  {
   "cell_type": "code",
   "execution_count": 67,
   "id": "51d468c9-1699-4e0c-a0ed-e0c882312f50",
   "metadata": {},
   "outputs": [],
   "source": [
    "df_processed = df_processed.copy()"
   ]
  },
  {
   "cell_type": "code",
   "execution_count": 68,
   "id": "1fc89bea-40e4-44fe-8ac9-03f5a346edc5",
   "metadata": {},
   "outputs": [
    {
     "data": {
      "text/plain": [
       "708"
      ]
     },
     "execution_count": 68,
     "metadata": {},
     "output_type": "execute_result"
    }
   ],
   "source": [
    "df_processed.shape[1]"
   ]
  },
  {
   "cell_type": "markdown",
   "id": "36f6d39e-72dd-4ab1-bcc4-e84e9b68ae28",
   "metadata": {},
   "source": [
    "#### Column count increased significantly but the reason behind this is the missing data problem\n",
    "#### We will get rid of \"useless\" columns after we detect it and we'll remove them safely without harming our data\n",
    "#### If missing value informations are being stored in a different column, it will be helpful while using **LightGBM/XGBoost**"
   ]
  },
  {
   "cell_type": "markdown",
   "id": "272558f0-ac3f-447f-8a12-6aaeab89a336",
   "metadata": {},
   "source": [
    "## **Feature Engineering**\n",
    "### Creating Unique ID\n",
    "#### Creating an unique ID gives us a point of view that we can track different scenarios based on different users/profiles"
   ]
  },
  {
   "cell_type": "code",
   "execution_count": 71,
   "id": "50f9d7e3-733b-427e-8c03-4bf0aa3b0268",
   "metadata": {},
   "outputs": [],
   "source": [
    "df_processed['CustomerID'] = df_processed['card1'].astype(str) + '_' + \\\n",
    "                             df_processed['card2'].astype(str) + '_' + \\\n",
    "                             df_processed['card3'].astype(str) + '_' + \\\n",
    "                             df_processed['card4'].astype(str) + '_' + \\\n",
    "                             df_processed['card5'].astype(str) + '_' + \\\n",
    "                             df_processed['card6'].astype(str) + '_' + \\\n",
    "                             df_processed['addr1'].astype(str)"
   ]
  },
  {
   "cell_type": "markdown",
   "id": "54a84c04-8efb-421d-b98a-859e3019e1c4",
   "metadata": {},
   "source": [
    "### Grouping and Aggregation"
   ]
  },
  {
   "cell_type": "code",
   "execution_count": 73,
   "id": "1d175be3-54f4-4148-9af1-b2def2357c80",
   "metadata": {},
   "outputs": [],
   "source": [
    "agg_funcs = {'TransactionAmt': ['mean', 'std']}\n",
    "customer_agg_df = df_processed.groupby('CustomerID').agg(agg_funcs)"
   ]
  },
  {
   "cell_type": "code",
   "execution_count": 74,
   "id": "cebf5c8c-649c-45b2-9313-264237c5a351",
   "metadata": {},
   "outputs": [],
   "source": [
    "customer_agg_df.columns = ['_'.join(col).strip() for col in customer_agg_df.columns.values]"
   ]
  },
  {
   "cell_type": "code",
   "execution_count": 75,
   "id": "7597cf70-1763-4b56-9653-74f9e7f52444",
   "metadata": {},
   "outputs": [],
   "source": [
    "df_processed = pd.merge(df_processed, customer_agg_df, on='CustomerID', how='left')"
   ]
  },
  {
   "cell_type": "markdown",
   "id": "ef16ec8c-449b-4be1-940b-df8bba161fd0",
   "metadata": {},
   "source": [
    "### Interaction Features"
   ]
  },
  {
   "cell_type": "code",
   "execution_count": 77,
   "id": "daba9084-a90f-4028-a2ff-e774bf45f175",
   "metadata": {},
   "outputs": [],
   "source": [
    "df_processed['TransactionAmt_to_Mean'] = df_processed['TransactionAmt'] / (df_processed['TransactionAmt_mean'] + 1e-6)"
   ]
  },
  {
   "cell_type": "code",
   "execution_count": 78,
   "id": "a7efd0a7-0176-4ec0-a0d1-14aae8db1fff",
   "metadata": {},
   "outputs": [],
   "source": [
    "df_processed['TransactionAmt_to_Std'] = df_processed['TransactionAmt'] / (df_processed['TransactionAmt_std'] + 1e-6)"
   ]
  },
  {
   "cell_type": "markdown",
   "id": "6096ce74-24ac-47dc-9cbc-6055fb7cbd4a",
   "metadata": {},
   "source": [
    "#### If we need to detect **anomalies** then we need to declare a **normal**\n",
    "#### If we detect something that is not usual then we call it an **anomaly**"
   ]
  },
  {
   "cell_type": "markdown",
   "id": "d2ecb872-8fbc-43ca-ba6e-06e5d879b0cb",
   "metadata": {},
   "source": [
    "### Label Encoding\n",
    "#### Categorical datas are being transformed to numerical labels"
   ]
  },
  {
   "cell_type": "code",
   "execution_count": 81,
   "id": "754cf555-b5e6-44b4-a3e8-c12b6d442141",
   "metadata": {},
   "outputs": [],
   "source": [
    "categorical_cols = df_processed.select_dtypes(include=['object']).columns"
   ]
  },
  {
   "cell_type": "code",
   "execution_count": 82,
   "id": "a9749cba-f24e-49e5-b1e0-060bc0605750",
   "metadata": {},
   "outputs": [
    {
     "data": {
      "text/plain": [
       "32"
      ]
     },
     "execution_count": 82,
     "metadata": {},
     "output_type": "execute_result"
    }
   ],
   "source": [
    "len(categorical_cols)"
   ]
  },
  {
   "cell_type": "code",
   "execution_count": 83,
   "id": "9bb6c56e-895a-452f-96ea-dfe7d751f0cf",
   "metadata": {},
   "outputs": [],
   "source": [
    "for col in categorical_cols:\n",
    "    le = LabelEncoder()\n",
    "    df_processed[col] = le.fit_transform(df_processed[col].astype(str))"
   ]
  },
  {
   "cell_type": "code",
   "execution_count": 84,
   "id": "51a4ae2e-7dc0-4be7-9608-09d6a394d06c",
   "metadata": {},
   "outputs": [],
   "source": [
    "X = df_processed.drop(['isFraud', 'TransactionID', 'TransactionDT'], axis=1)\n",
    "y = df_processed['isFraud']"
   ]
  },
  {
   "cell_type": "code",
   "execution_count": 85,
   "id": "ae149a7a-8e9c-4a2d-a7df-fd53eff25efc",
   "metadata": {},
   "outputs": [],
   "source": [
    "skf = StratifiedKFold(n_splits=5, shuffle=True, random_state=42)"
   ]
  },
  {
   "cell_type": "code",
   "execution_count": 86,
   "id": "fa7beb3a-8e16-434f-a1b7-c3a6da4d1cf0",
   "metadata": {},
   "outputs": [],
   "source": [
    "oof_preds = np.zeros(len(df_processed))"
   ]
  },
  {
   "cell_type": "code",
   "execution_count": 87,
   "id": "2ef81522-233d-455e-97c1-446335c0d9f5",
   "metadata": {},
   "outputs": [
    {
     "name": "stdout",
     "output_type": "stream",
     "text": [
      "--- FOLD 1 ---\n",
      "[LightGBM] [Info] Number of positive: 16531, number of negative: 455901\n",
      "[LightGBM] [Info] Auto-choosing col-wise multi-threading, the overhead of testing was 2.817159 seconds.\n",
      "You can set `force_col_wise=true` to remove the overhead.\n",
      "[LightGBM] [Info] Total Bins 40612\n",
      "[LightGBM] [Info] Number of data points in the train set: 472432, number of used features: 709\n",
      "[LightGBM] [Info] [binary:BoostFromScore]: pavg=0.034991 -> initscore=-3.317038\n",
      "[LightGBM] [Info] Start training from score -3.317038\n",
      "--- FOLD 2 ---\n",
      "[LightGBM] [Info] Number of positive: 16531, number of negative: 455901\n",
      "[LightGBM] [Info] Auto-choosing col-wise multi-threading, the overhead of testing was 2.925733 seconds.\n",
      "You can set `force_col_wise=true` to remove the overhead.\n",
      "[LightGBM] [Info] Total Bins 40614\n",
      "[LightGBM] [Info] Number of data points in the train set: 472432, number of used features: 709\n",
      "[LightGBM] [Info] [binary:BoostFromScore]: pavg=0.034991 -> initscore=-3.317038\n",
      "[LightGBM] [Info] Start training from score -3.317038\n",
      "--- FOLD 3 ---\n",
      "[LightGBM] [Info] Number of positive: 16530, number of negative: 455902\n",
      "[LightGBM] [Info] Auto-choosing col-wise multi-threading, the overhead of testing was 2.269265 seconds.\n",
      "You can set `force_col_wise=true` to remove the overhead.\n",
      "[LightGBM] [Info] Total Bins 40652\n",
      "[LightGBM] [Info] Number of data points in the train set: 472432, number of used features: 709\n",
      "[LightGBM] [Info] [binary:BoostFromScore]: pavg=0.034989 -> initscore=-3.317101\n",
      "[LightGBM] [Info] Start training from score -3.317101\n",
      "--- FOLD 4 ---\n",
      "[LightGBM] [Info] Number of positive: 16530, number of negative: 455902\n",
      "[LightGBM] [Info] Auto-choosing col-wise multi-threading, the overhead of testing was 2.819842 seconds.\n",
      "You can set `force_col_wise=true` to remove the overhead.\n",
      "[LightGBM] [Info] Total Bins 40722\n",
      "[LightGBM] [Info] Number of data points in the train set: 472432, number of used features: 709\n",
      "[LightGBM] [Info] [binary:BoostFromScore]: pavg=0.034989 -> initscore=-3.317101\n",
      "[LightGBM] [Info] Start training from score -3.317101\n",
      "--- FOLD 5 ---\n",
      "[LightGBM] [Info] Number of positive: 16530, number of negative: 455902\n",
      "[LightGBM] [Info] Auto-choosing col-wise multi-threading, the overhead of testing was 2.735307 seconds.\n",
      "You can set `force_col_wise=true` to remove the overhead.\n",
      "[LightGBM] [Info] Total Bins 40693\n",
      "[LightGBM] [Info] Number of data points in the train set: 472432, number of used features: 709\n",
      "[LightGBM] [Info] [binary:BoostFromScore]: pavg=0.034989 -> initscore=-3.317101\n",
      "[LightGBM] [Info] Start training from score -3.317101\n"
     ]
    }
   ],
   "source": [
    "for fold, (train_idx, val_idx) in enumerate(skf.split(X, y)):\n",
    "    print(f\"--- FOLD {fold+1} ---\")\n",
    "    \n",
    "    X_train, y_train = X.iloc[train_idx], y.iloc[train_idx]\n",
    "    X_val, y_val = X.iloc[val_idx], y.iloc[val_idx]\n",
    "    \n",
    "    lgb_clf = lgb.LGBMClassifier(n_estimators=1000, random_state=42)\n",
    "    \n",
    "    lgb_clf.fit(X_train, y_train, \n",
    "              eval_set=[(X_val, y_val)], \n",
    "              eval_metric='auc', \n",
    "              callbacks=[lgb.early_stopping(100, verbose=False)])\n",
    "    \n",
    "    val_preds = lgb_clf.predict_proba(X_val)[:, 1]\n",
    "    oof_preds[val_idx] = val_preds"
   ]
  },
  {
   "cell_type": "code",
   "execution_count": 88,
   "id": "1ef5c4d5-4669-4996-8e8f-5c8cc91a9550",
   "metadata": {},
   "outputs": [
    {
     "name": "stdout",
     "output_type": "stream",
     "text": [
      "\n",
      "Training completed! Overall Out-of-Fold AUC Score: 0.96563\n"
     ]
    }
   ],
   "source": [
    "oof_auc_score = roc_auc_score(y, oof_preds)\n",
    "print(f\"\\nTraining completed! Overall Out-of-Fold AUC Score: {oof_auc_score:.5f}\")"
   ]
  },
  {
   "attachments": {},
   "cell_type": "markdown",
   "id": "0b1cfbd7-4e85-4f1f-b13f-38a0daea25b6",
   "metadata": {},
   "source": [
    "## **Summary**\n",
    "### We've trained our model and tested it using LightGBM\n",
    "### As a result, model achieved approximately **%96.5 ROG-AUC** score\n",
    "#### That makes our model successful, **but** since the topic is **Credit Card Fraud Detection** and every fraud is a valuable subject itself, we have to try to optimize our dataframe/model to optimize the results"
   ]
  },
  {
   "cell_type": "markdown",
   "id": "69fc06ed-983b-4c53-ada6-12bef8c5e43b",
   "metadata": {},
   "source": [
    "## Deeper Into Feature Engineering"
   ]
  },
  {
   "cell_type": "code",
   "execution_count": 91,
   "id": "b5fa73c4-a7d3-4a09-90e8-08047ebb79e2",
   "metadata": {},
   "outputs": [],
   "source": [
    "df_processed['TransactionHour'] = (df_processed['TransactionDT'] // 3600) % 24"
   ]
  },
  {
   "cell_type": "code",
   "execution_count": 92,
   "id": "1434939a-329f-4d73-8862-25112b9f80f8",
   "metadata": {},
   "outputs": [],
   "source": [
    "df_processed['TransactionDayOfWeek'] = (df_processed['TransactionDT'] // 86400) % 7"
   ]
  },
  {
   "cell_type": "code",
   "execution_count": 93,
   "id": "4973a094-f975-4031-bc80-b395e7b4bc3b",
   "metadata": {},
   "outputs": [
    {
     "name": "stdout",
     "output_type": "stream",
     "text": [
      "   TransactionDT  TransactionHour  TransactionDayOfWeek\n",
      "0          86400                0                     1\n",
      "1          86401                0                     1\n",
      "2          86469                0                     1\n",
      "3          86499                0                     1\n",
      "4          86506                0                     1\n"
     ]
    }
   ],
   "source": [
    "print(df_processed[['TransactionDT', 'TransactionHour', 'TransactionDayOfWeek']].head())"
   ]
  },
  {
   "cell_type": "markdown",
   "id": "367db299-6b6c-4828-a46c-9411b5773cb9",
   "metadata": {},
   "source": [
    "### Formatting the time passed after last transaction above"
   ]
  },
  {
   "cell_type": "markdown",
   "id": "594a11bc-f3ff-4785-8ecb-8c652e844575",
   "metadata": {},
   "source": [
    "### We need to optimize and add aggregate functions and do modifications about columns to optimize our model"
   ]
  },
  {
   "cell_type": "code",
   "execution_count": 96,
   "id": "e5b7b80c-6a05-4f22-9001-4c1e1bb7dff0",
   "metadata": {},
   "outputs": [],
   "source": [
    "agg_funcs = {'D15': ['mean', 'std']}\n",
    "customer_d15_agg = df_processed.groupby('CustomerID').agg(agg_funcs)\n",
    "customer_d15_agg.columns = ['CustomerID_D15_mean', 'CustomerID_D15_std']\n",
    "df_processed = pd.merge(df_processed, customer_d15_agg, on='CustomerID', how='left')"
   ]
  },
  {
   "cell_type": "code",
   "execution_count": 97,
   "id": "ccca89e3-3672-4ae4-8869-183e4fa1cdf0",
   "metadata": {},
   "outputs": [],
   "source": [
    "df_processed['email_domain_freq'] = df_processed['P_emaildomain'].map(df_processed['P_emaildomain'].value_counts(dropna=False))"
   ]
  },
  {
   "cell_type": "code",
   "execution_count": 98,
   "id": "92382128-64f8-4b3c-8053-bb917e7c341d",
   "metadata": {},
   "outputs": [],
   "source": [
    "df_processed.fillna(-999, inplace=True)"
   ]
  },
  {
   "cell_type": "markdown",
   "id": "52055230-03de-46dc-8b15-01cb4d35a7c9",
   "metadata": {},
   "source": [
    "### Filled missing values with -999 so we'll know if an user has only a single transaction"
   ]
  },
  {
   "cell_type": "markdown",
   "id": "459c4acd-80c5-4191-8756-f7ab29243061",
   "metadata": {},
   "source": [
    "## **Model Training & Testing - Second Attempt**"
   ]
  },
  {
   "cell_type": "code",
   "execution_count": 101,
   "id": "a4f6bdd3-190e-4e02-a65f-83217ca7cd0c",
   "metadata": {},
   "outputs": [],
   "source": [
    "X = df_processed.drop(['isFraud', 'TransactionID', 'TransactionDT', 'CustomerID'], axis=1)\n",
    "y = df_processed['isFraud']"
   ]
  },
  {
   "cell_type": "code",
   "execution_count": 102,
   "id": "c9a06efe-b509-4f14-b36d-c58686d7dad6",
   "metadata": {},
   "outputs": [],
   "source": [
    "skf = StratifiedKFold(n_splits=5, shuffle=True, random_state=42)\n",
    "oof_preds = np.zeros(len(df_processed))\n",
    "feature_importances = pd.DataFrame(index=X.columns)"
   ]
  },
  {
   "cell_type": "code",
   "execution_count": null,
   "id": "d96788af-0241-4962-b944-aeb8bde0faa9",
   "metadata": {},
   "outputs": [
    {
     "name": "stdout",
     "output_type": "stream",
     "text": [
      "--- FOLD 1 ---\n",
      "[LightGBM] [Info] Number of positive: 16531, number of negative: 455901\n",
      "[LightGBM] [Info] Auto-choosing col-wise multi-threading, the overhead of testing was 2.705470 seconds.\n",
      "You can set `force_col_wise=true` to remove the overhead.\n",
      "[LightGBM] [Info] Total Bins 40967\n",
      "[LightGBM] [Info] Number of data points in the train set: 472432, number of used features: 713\n",
      "[LightGBM] [Info] [binary:BoostFromScore]: pavg=0.034991 -> initscore=-3.317038\n",
      "[LightGBM] [Info] Start training from score -3.317038\n",
      "--- FOLD 2 ---\n",
      "[LightGBM] [Info] Number of positive: 16531, number of negative: 455901\n",
      "[LightGBM] [Info] Auto-choosing col-wise multi-threading, the overhead of testing was 2.472307 seconds.\n",
      "You can set `force_col_wise=true` to remove the overhead.\n",
      "[LightGBM] [Info] Total Bins 40969\n",
      "[LightGBM] [Info] Number of data points in the train set: 472432, number of used features: 713\n",
      "[LightGBM] [Info] [binary:BoostFromScore]: pavg=0.034991 -> initscore=-3.317038\n",
      "[LightGBM] [Info] Start training from score -3.317038\n",
      "--- FOLD 3 ---\n",
      "[LightGBM] [Info] Number of positive: 16530, number of negative: 455902\n",
      "[LightGBM] [Info] Auto-choosing col-wise multi-threading, the overhead of testing was 2.401420 seconds.\n",
      "You can set `force_col_wise=true` to remove the overhead.\n",
      "[LightGBM] [Info] Total Bins 41005\n",
      "[LightGBM] [Info] Number of data points in the train set: 472432, number of used features: 713\n",
      "[LightGBM] [Info] [binary:BoostFromScore]: pavg=0.034989 -> initscore=-3.317101\n",
      "[LightGBM] [Info] Start training from score -3.317101\n"
     ]
    }
   ],
   "source": [
    "for fold, (train_idx, val_idx) in enumerate(skf.split(X, y)):\n",
    "    print(f\"--- FOLD {fold+1} ---\")\n",
    "    X_train, y_train = X.iloc[train_idx], y.iloc[train_idx]\n",
    "    X_val, y_val = X.iloc[val_idx], y.iloc[val_idx]\n",
    "    \n",
    "    lgb_clf = lgb.LGBMClassifier(n_estimators=1000, random_state=42) # Temel parametrelerle\n",
    "    lgb_clf.fit(X_train, y_train, \n",
    "              eval_set=[(X_val, y_val)], \n",
    "              eval_metric='auc', \n",
    "              callbacks=[lgb.early_stopping(100, verbose=False)])\n",
    "    \n",
    "    val_preds = lgb_clf.predict_proba(X_val)[:, 1]\n",
    "    oof_preds[val_idx] = val_preds\n",
    "    feature_importances[f'fold_{fold+1}'] = lgb_clf.feature_importances_"
   ]
  },
  {
   "cell_type": "code",
   "execution_count": null,
   "id": "0029b054-570a-4fee-b0ac-92d7a0f74a3b",
   "metadata": {},
   "outputs": [],
   "source": [
    "oof_auc_score = roc_auc_score(y, oof_preds)\n",
    "print(f\"\\nTraining completed! Overall Out-of-Fold AUC Score: {oof_auc_score:.5f}\")"
   ]
  },
  {
   "cell_type": "markdown",
   "id": "e3bf452b-deb3-4468-9328-76c4be9412bd",
   "metadata": {},
   "source": [
    "### ROC-AUC score has improved around 0.001, it shows us that there's no visible changes\n",
    "### Next step is to get rid of useless columns"
   ]
  },
  {
   "cell_type": "code",
   "execution_count": null,
   "id": "75255e98-5ed6-4db5-b1a4-2dda341b1c38",
   "metadata": {},
   "outputs": [],
   "source": [
    "feature_importances['mean_importance'] = feature_importances.mean(axis=1)\n",
    "feature_importances.sort_values(by='mean_importance', ascending=False, inplace=True)"
   ]
  },
  {
   "cell_type": "code",
   "execution_count": null,
   "id": "9f2e083a-7c13-4a3a-bccd-f6763f466739",
   "metadata": {},
   "outputs": [],
   "source": [
    "zero_importance_features = feature_importances[feature_importances['mean_importance'] == 0].index.tolist()"
   ]
  },
  {
   "cell_type": "code",
   "execution_count": null,
   "id": "b5dcbfe7-8e3d-4e4c-a7d7-934d099d9111",
   "metadata": {},
   "outputs": [],
   "source": [
    "print(f\"\\nThe model found {len(zero_importance_features)} features with zero importance.\")\n",
    "print(f\"Example: {zero_importance_features[:10]}\")"
   ]
  },
  {
   "cell_type": "code",
   "execution_count": null,
   "id": "8be11bec-434d-4551-8c89-ca2905ea2240",
   "metadata": {},
   "outputs": [],
   "source": [
    "print(f\"Number of original features: {X.shape[1]}\")\n",
    "X_reduced = X.drop(columns=zero_importance_features)\n",
    "\n",
    "print(f\"Number of features after dropping those with zero importance: {X_reduced.shape[1]}\")"
   ]
  },
  {
   "cell_type": "code",
   "execution_count": null,
   "id": "f99be1fd-909f-4f44-91ee-743693c1553b",
   "metadata": {},
   "outputs": [],
   "source": [
    "X_train_opt, X_val_opt, y_train_opt, y_val_opt = train_test_split(X, y, test_size=0.25, stratify=y, random_state=42)"
   ]
  },
  {
   "cell_type": "code",
   "execution_count": null,
   "id": "9e5e0cfd-83a6-404d-b9ae-ff40c0756821",
   "metadata": {},
   "outputs": [],
   "source": [
    "def objective(trial):\n",
    "    params = {\n",
    "        'objective': 'binary',\n",
    "        'metric': 'auc',\n",
    "        'verbosity': -1, # Logları kapatır\n",
    "        'boosting_type': 'gbdt',\n",
    "        'random_state': 42,\n",
    "        'n_estimators': 1000,\n",
    "        'learning_rate': trial.suggest_float('learning_rate', 0.01, 0.05),\n",
    "        'num_leaves': trial.suggest_int('num_leaves', 20, 300),\n",
    "        'max_depth': trial.suggest_int('max_depth', 5, 16),\n",
    "        'min_child_samples': trial.suggest_int('min_child_samples', 20, 200),\n",
    "        'subsample': trial.suggest_float('subsample', 0.7, 1.0),\n",
    "        'colsample_bytree': trial.suggest_float('colsample_bytree', 0.5, 1.0),\n",
    "        'reg_alpha': trial.suggest_float('reg_alpha', 0.0, 1.0),\n",
    "        'reg_lambda': trial.suggest_float('reg_lambda', 0.0, 1.0)\n",
    "    }\n",
    "    \n",
    "    model = lgb.LGBMClassifier(**params)\n",
    "    model.fit(X_train_opt, y_train_opt,\n",
    "              eval_set=[(X_val_opt, y_val_opt)],\n",
    "              eval_metric='auc',\n",
    "              callbacks=[lgb.early_stopping(100, verbose=False)])\n",
    "    \n",
    "    preds = model.predict_proba(X_val_opt)[:, 1]\n",
    "    auc = roc_auc_score(y_val_opt, preds)\n",
    "    return auc"
   ]
  },
  {
   "cell_type": "code",
   "execution_count": null,
   "id": "fb16ca78-6387-41c2-aace-e9d102043b39",
   "metadata": {},
   "outputs": [],
   "source": [
    "study = optuna.create_study(direction='maximize')\n",
    "study.optimize(objective, n_trials=50)"
   ]
  },
  {
   "cell_type": "code",
   "execution_count": null,
   "id": "b641ac72-4bdf-43aa-9268-acd8664cc8cb",
   "metadata": {},
   "outputs": [],
   "source": [
    "print(f\"Best trial's AUC score: {study.best_value:.5f}\")\n",
    "print(\"Best hyperparameters:\")\n",
    "print(study.best_params)"
   ]
  },
  {
   "cell_type": "code",
   "execution_count": null,
   "id": "df9de3dd-1fb5-4845-a332-1929949789ee",
   "metadata": {},
   "outputs": [],
   "source": [
    "best_params = study.best_params\n",
    "best_params['random_state'] = 42"
   ]
  }
 ],
 "metadata": {
  "kernelspec": {
   "display_name": "Python 3 (ipykernel)",
   "language": "python",
   "name": "python3"
  },
  "language_info": {
   "codemirror_mode": {
    "name": "ipython",
    "version": 3
   },
   "file_extension": ".py",
   "mimetype": "text/x-python",
   "name": "python",
   "nbconvert_exporter": "python",
   "pygments_lexer": "ipython3",
   "version": "3.12.4"
  }
 },
 "nbformat": 4,
 "nbformat_minor": 5
}
